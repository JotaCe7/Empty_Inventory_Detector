{
 "cells": [
  {
   "cell_type": "code",
   "execution_count": 9,
   "metadata": {},
   "outputs": [],
   "source": [
    "import comet_ml"
   ]
  },
  {
   "cell_type": "code",
   "execution_count": 10,
   "metadata": {},
   "outputs": [],
   "source": [
    "! export COMET_API_KEY= \"rlkvOiBksvPGoeDbeyzRZikru\"\n",
    "! export COMET_PROJECT_NAME=\"sku-missing\"\n"
   ]
  },
  {
   "cell_type": "code",
   "execution_count": 11,
   "metadata": {},
   "outputs": [
    {
     "name": "stderr",
     "output_type": "stream",
     "text": [
      "COMET INFO: Comet API key is valid\n"
     ]
    }
   ],
   "source": [
    "comet_ml.init(project_name = 'sku-missing')"
   ]
  },
  {
   "cell_type": "code",
   "execution_count": null,
   "metadata": {},
   "outputs": [
    {
     "name": "stdout",
     "output_type": "stream",
     "text": [
      "\u001b[34m\u001b[1mtrain: \u001b[0mweights=yolov5m.pt, cfg=, data=../data/yolo_data.yaml, hyp=../yolov5/data/hyps/hyp.scratch-low.yaml, epochs=5, batch_size=16, imgsz=640, rect=False, resume=False, nosave=False, noval=False, noautoanchor=False, noplots=False, evolve=None, bucket=, cache=None, image_weights=False, device=, multi_scale=False, single_cls=False, optimizer=SGD, sync_bn=False, workers=8, project=../yolov5/runs/train, name=exp, exist_ok=False, quad=False, cos_lr=False, label_smoothing=0.0, patience=100, freeze=[0], save_period=-1, seed=0, local_rank=-1, entity=None, upload_dataset=False, bbox_interval=-1, artifact_alias=latest\n",
      "\u001b[34m\u001b[1mgithub: \u001b[0m⚠️ YOLOv5 is out of date by 1 commit. Use `git pull` or `git clone https://github.com/ultralytics/yolov5` to update.\n",
      "YOLOv5 🚀 v7.0-32-g357cde9 Python-3.8.10 torch-1.10.0+cu111 CUDA:0 (Tesla K80, 11441MiB)\n",
      "\n",
      "\u001b[34m\u001b[1mhyperparameters: \u001b[0mlr0=0.01, lrf=0.01, momentum=0.937, weight_decay=0.0005, warmup_epochs=3.0, warmup_momentum=0.8, warmup_bias_lr=0.1, box=0.05, cls=0.5, cls_pw=1.0, obj=1.0, obj_pw=1.0, iou_t=0.2, anchor_t=4.0, fl_gamma=0.0, hsv_h=0.015, hsv_s=0.7, hsv_v=0.4, degrees=0.0, translate=0.1, scale=0.5, shear=0.0, perspective=0.0, flipud=0.0, fliplr=0.5, mosaic=1.0, mixup=0.0, copy_paste=0.0\n",
      "\u001b[34m\u001b[1mClearML: \u001b[0mrun 'pip install clearml' to automatically track, visualize and remotely train YOLOv5 🚀 in ClearML\n",
      "\u001b[34m\u001b[1mTensorBoard: \u001b[0mStart with 'tensorboard --logdir ../yolov5/runs/train', view at http://localhost:6006/\n",
      "COMET WARNING: Comet has disabled auto-logging functionality as it has been imported after the following ML modules: tensorboard, torch. Metrics and hyperparameters can still be logged using comet_ml.log_metrics() and comet_ml.log_parameters()\n",
      "COMET INFO: CUDA_VISIBLE_DEVICES is unset, defaulting to all devices\n",
      "COMET INFO: devices to report: ['GPU-7bbbc95e-7bfa-74c9-d667-3531faaafb97']\n",
      "COMET INFO: Experiment is live on comet.com https://www.comet.com/sannicosan/initial-model/79be683f051f42b7a4b38c4d152d05c1\n",
      "\n",
      "Downloading https://ultralytics.com/assets/Arial.ttf to /home/app/.config/Ultralytics/Arial.ttf...\n",
      "100%|██████████| 755k/755k [00:00<00:00, 16.6MB/s]\n",
      "Overriding model.yaml nc=80 with nc=2\n",
      "\n",
      "                 from  n    params  module                                  arguments                     \n",
      "  0                -1  1      5280  models.common.Conv                      [3, 48, 6, 2, 2]              \n",
      "  1                -1  1     41664  models.common.Conv                      [48, 96, 3, 2]                \n",
      "  2                -1  2     65280  models.common.C3                        [96, 96, 2]                   \n",
      "  3                -1  1    166272  models.common.Conv                      [96, 192, 3, 2]               \n",
      "  4                -1  4    444672  models.common.C3                        [192, 192, 4]                 \n",
      "  5                -1  1    664320  models.common.Conv                      [192, 384, 3, 2]              \n",
      "  6                -1  6   2512896  models.common.C3                        [384, 384, 6]                 \n",
      "  7                -1  1   2655744  models.common.Conv                      [384, 768, 3, 2]              \n",
      "  8                -1  2   4134912  models.common.C3                        [768, 768, 2]                 \n",
      "  9                -1  1   1476864  models.common.SPPF                      [768, 768, 5]                 \n",
      " 10                -1  1    295680  models.common.Conv                      [768, 384, 1, 1]              \n",
      " 11                -1  1         0  torch.nn.modules.upsampling.Upsample    [None, 2, 'nearest']          \n",
      " 12           [-1, 6]  1         0  models.common.Concat                    [1]                           \n",
      " 13                -1  2   1182720  models.common.C3                        [768, 384, 2, False]          \n",
      " 14                -1  1     74112  models.common.Conv                      [384, 192, 1, 1]              \n",
      " 15                -1  1         0  torch.nn.modules.upsampling.Upsample    [None, 2, 'nearest']          \n",
      " 16           [-1, 4]  1         0  models.common.Concat                    [1]                           \n",
      " 17                -1  2    296448  models.common.C3                        [384, 192, 2, False]          \n",
      " 18                -1  1    332160  models.common.Conv                      [192, 192, 3, 2]              \n",
      " 19          [-1, 14]  1         0  models.common.Concat                    [1]                           \n",
      " 20                -1  2   1035264  models.common.C3                        [384, 384, 2, False]          \n",
      " 21                -1  1   1327872  models.common.Conv                      [384, 384, 3, 2]              \n",
      " 22          [-1, 10]  1         0  models.common.Concat                    [1]                           \n",
      " 23                -1  2   4134912  models.common.C3                        [768, 768, 2, False]          \n",
      " 24      [17, 20, 23]  1     28287  models.yolo.Detect                      [2, [[10, 13, 16, 30, 33, 23], [30, 61, 62, 45, 59, 119], [116, 90, 156, 198, 373, 326]], [192, 384, 768]]\n",
      "Model summary: 291 layers, 20875359 parameters, 20875359 gradients, 48.2 GFLOPs\n",
      "\n",
      "Transferred 475/481 items from yolov5m.pt\n",
      "\u001b[34m\u001b[1mAMP: \u001b[0mchecks passed ✅\n",
      "\u001b[34m\u001b[1moptimizer:\u001b[0m SGD(lr=0.01) with parameter groups 79 weight(decay=0.0), 82 weight(decay=0.0005), 82 bias\n",
      "\u001b[34m\u001b[1mtrain: \u001b[0mScanning /home/app/src/data/train_test_SKU/train/labels.cache... 8185 images, 0 backgrounds, 0 corrupt: 100%|██████████| 8185/8185 [00:00<?, ?it/s]\n",
      "\u001b[34m\u001b[1mtrain: \u001b[0mWARNING ⚠️ /home/app/src/data/train_test_SKU/train/images/train_1797.jpg: 3 duplicate labels removed\n",
      "\u001b[34m\u001b[1mval: \u001b[0mScanning /home/app/src/data/train_test_SKU/val/labels.cache... 581 images, 0 backgrounds, 3 corrupt: 100%|██████████| 584/584 [00:00<?, ?it/s]\n",
      "\u001b[34m\u001b[1mval: \u001b[0mWARNING ⚠️ /home/app/src/data/train_test_SKU/val/images/val_0.jpg: ignoring corrupt image/label: image file is truncated (48 bytes not processed)\n",
      "\u001b[34m\u001b[1mval: \u001b[0mWARNING ⚠️ /home/app/src/data/train_test_SKU/val/images/val_115.jpg: ignoring corrupt image/label: image file is truncated (24 bytes not processed)\n",
      "\u001b[34m\u001b[1mval: \u001b[0mWARNING ⚠️ /home/app/src/data/train_test_SKU/val/images/val_127.jpg: ignoring corrupt image/label: image file is truncated (8 bytes not processed)\n",
      "\n",
      "\u001b[34m\u001b[1mAutoAnchor: \u001b[0m4.72 anchors/target, 1.000 Best Possible Recall (BPR). Current anchors are a good fit to dataset ✅\n",
      "Plotting labels to ../yolov5/runs/train/exp5/labels.jpg... \n",
      "Image sizes 640 train, 640 val\n",
      "Using 4 dataloader workers\n",
      "Logging results to \u001b[1m../yolov5/runs/train/exp5\u001b[0m\n",
      "Starting training for 5 epochs...\n",
      "\n",
      "      Epoch    GPU_mem   box_loss   obj_loss   cls_loss  Instances       Size\n",
      "        0/4      7.33G      0.131      0.614    0.03045       4183        640:   0%|          | 0/512 [00:02<?, ?it/s]COMET INFO: CUDA_VISIBLE_DEVICES is unset, defaulting to all devices\n",
      "COMET INFO: devices to report: ['GPU-7bbbc95e-7bfa-74c9-d667-3531faaafb97']\n",
      "        0/4      7.35G     0.1288     0.5338     0.0302       2592        640:   1%|          | 3/512 [00:58<2:41:20, 19.02s/it]COMET INFO: CUDA_VISIBLE_DEVICES is unset, defaulting to all devices\n",
      "COMET INFO: devices to report: ['GPU-7bbbc95e-7bfa-74c9-d667-3531faaafb97']\n",
      "        0/4      7.36G     0.1257     0.5486    0.02781       4247        640:   5%|▍         | 25/512 [02:14<28:56,  3.57s/it] COMET INFO: CUDA_VISIBLE_DEVICES is unset, defaulting to all devices\n",
      "COMET INFO: devices to report: ['GPU-7bbbc95e-7bfa-74c9-d667-3531faaafb97']\n",
      "        0/4      7.36G     0.1236     0.5474    0.02558       3349        640:   8%|▊         | 42/512 [03:13<28:14,  3.60s/it]COMET INFO: CUDA_VISIBLE_DEVICES is unset, defaulting to all devices\n",
      "COMET INFO: devices to report: ['GPU-7bbbc95e-7bfa-74c9-d667-3531faaafb97']\n",
      "        0/4      7.36G     0.1218     0.5473    0.02341       4119        640:  12%|█▏        | 60/512 [04:12<21:18,  2.83s/it]COMET INFO: CUDA_VISIBLE_DEVICES is unset, defaulting to all devices\n",
      "COMET INFO: devices to report: ['GPU-7bbbc95e-7bfa-74c9-d667-3531faaafb97']\n",
      "        0/4      7.36G     0.1202     0.5453     0.0215       4778        640:  15%|█▌        | 77/512 [05:13<29:40,  4.09s/it]COMET INFO: CUDA_VISIBLE_DEVICES is unset, defaulting to all devices\n",
      "COMET INFO: devices to report: ['GPU-7bbbc95e-7bfa-74c9-d667-3531faaafb97']\n"
     ]
    },
    {
     "name": "stdout",
     "output_type": "stream",
     "text": [
      "        0/4      7.36G     0.1182     0.5436    0.01957       3095        640:  19%|█▉        | 96/512 [06:14<21:48,  3.15s/it]COMET INFO: CUDA_VISIBLE_DEVICES is unset, defaulting to all devices\n",
      "COMET INFO: devices to report: ['GPU-7bbbc95e-7bfa-74c9-d667-3531faaafb97']\n",
      "        0/4      7.36G     0.1161     0.5442      0.018       4710        640:  22%|██▏       | 113/512 [07:13<23:13,  3.49s/it]COMET INFO: CUDA_VISIBLE_DEVICES is unset, defaulting to all devices\n",
      "COMET INFO: devices to report: ['GPU-7bbbc95e-7bfa-74c9-d667-3531faaafb97']\n",
      "        0/4      7.36G     0.1138     0.5476    0.01654       3789        640:  26%|██▌       | 131/512 [08:13<19:42,  3.10s/it]COMET INFO: CUDA_VISIBLE_DEVICES is unset, defaulting to all devices\n",
      "COMET INFO: devices to report: ['GPU-7bbbc95e-7bfa-74c9-d667-3531faaafb97']\n",
      "        0/4      7.36G     0.1114     0.5518    0.01532       3633        640:  29%|██▉       | 148/512 [09:11<20:39,  3.41s/it]COMET INFO: CUDA_VISIBLE_DEVICES is unset, defaulting to all devices\n",
      "COMET INFO: devices to report: ['GPU-7bbbc95e-7bfa-74c9-d667-3531faaafb97']\n",
      "        0/4      7.36G     0.1088     0.5572    0.01412       4168        640:  33%|███▎      | 167/512 [10:14<17:20,  3.02s/it]COMET INFO: CUDA_VISIBLE_DEVICES is unset, defaulting to all devices\n",
      "COMET INFO: devices to report: ['GPU-7bbbc95e-7bfa-74c9-d667-3531faaafb97']\n",
      "        0/4      7.36G     0.1065     0.5613    0.01317       3406        640:  36%|███▌      | 184/512 [11:14<21:37,  3.96s/it]COMET INFO: CUDA_VISIBLE_DEVICES is unset, defaulting to all devices\n",
      "COMET INFO: devices to report: ['GPU-7bbbc95e-7bfa-74c9-d667-3531faaafb97']\n",
      "        0/4      7.36G     0.1041      0.566     0.0123       4027        640:  39%|███▉      | 202/512 [12:13<15:19,  2.97s/it]COMET INFO: CUDA_VISIBLE_DEVICES is unset, defaulting to all devices\n",
      "COMET INFO: devices to report: ['GPU-7bbbc95e-7bfa-74c9-d667-3531faaafb97']\n",
      "        0/4      7.36G     0.1022     0.5696    0.01156       3920        640:  43%|████▎     | 219/512 [13:09<14:45,  3.02s/it]COMET INFO: CUDA_VISIBLE_DEVICES is unset, defaulting to all devices\n",
      "COMET INFO: devices to report: ['GPU-7bbbc95e-7bfa-74c9-d667-3531faaafb97']\n",
      "        0/4      7.36G     0.1001     0.5707    0.01087       3998        640:  46%|████▋     | 237/512 [14:15<16:41,  3.64s/it]COMET INFO: CUDA_VISIBLE_DEVICES is unset, defaulting to all devices\n",
      "COMET INFO: devices to report: ['GPU-7bbbc95e-7bfa-74c9-d667-3531faaafb97']\n",
      "        0/4      7.36G     0.0983     0.5732    0.01026       4045        640:  50%|████▉     | 255/512 [15:14<12:23,  2.89s/it]COMET INFO: CUDA_VISIBLE_DEVICES is unset, defaulting to all devices\n",
      "COMET INFO: devices to report: ['GPU-7bbbc95e-7bfa-74c9-d667-3531faaafb97']\n",
      "        0/4      7.36G    0.09683     0.5749   0.009749       4425        640:  53%|█████▎    | 272/512 [16:15<16:09,  4.04s/it]COMET INFO: CUDA_VISIBLE_DEVICES is unset, defaulting to all devices\n",
      "COMET INFO: devices to report: ['GPU-7bbbc95e-7bfa-74c9-d667-3531faaafb97']\n",
      "        0/4      7.36G    0.09529     0.5762   0.009237       3773        640:  57%|█████▋    | 291/512 [17:16<10:40,  2.90s/it]COMET INFO: CUDA_VISIBLE_DEVICES is unset, defaulting to all devices\n",
      "COMET INFO: devices to report: ['GPU-7bbbc95e-7bfa-74c9-d667-3531faaafb97']\n",
      "        0/4      7.36G    0.09403     0.5775    0.00885       2765        640:  60%|█████▉    | 307/512 [18:12<10:38,  3.11s/it]COMET INFO: CUDA_VISIBLE_DEVICES is unset, defaulting to all devices\n",
      "COMET INFO: devices to report: ['GPU-7bbbc95e-7bfa-74c9-d667-3531faaafb97']\n",
      "        0/4      7.36G    0.09266     0.5792   0.008435       4749        640:  64%|██████▎   | 326/512 [19:16<09:43,  3.14s/it]COMET INFO: CUDA_VISIBLE_DEVICES is unset, defaulting to all devices\n",
      "COMET INFO: devices to report: ['GPU-7bbbc95e-7bfa-74c9-d667-3531faaafb97']\n",
      "        0/4      7.36G    0.09158       0.58     0.0081       4423        640:  67%|██████▋   | 343/512 [20:12<08:13,  2.92s/it]COMET INFO: CUDA_VISIBLE_DEVICES is unset, defaulting to all devices\n",
      "COMET INFO: devices to report: ['GPU-7bbbc95e-7bfa-74c9-d667-3531faaafb97']\n",
      "        0/4      7.36G    0.09053     0.5809   0.007776       3911        640:  71%|███████   | 361/512 [21:17<09:09,  3.64s/it]COMET INFO: CUDA_VISIBLE_DEVICES is unset, defaulting to all devices\n",
      "COMET INFO: devices to report: ['GPU-7bbbc95e-7bfa-74c9-d667-3531faaafb97']\n",
      "        0/4      7.36G     0.0896     0.5814   0.007494       3452        640:  74%|███████▍  | 378/512 [22:16<07:01,  3.14s/it]COMET INFO: CUDA_VISIBLE_DEVICES is unset, defaulting to all devices\n",
      "COMET INFO: devices to report: ['GPU-7bbbc95e-7bfa-74c9-d667-3531faaafb97']\n",
      "        0/4      7.36G    0.08873     0.5828   0.007236       4275        640:  77%|███████▋  | 395/512 [23:12<05:33,  2.85s/it]COMET INFO: CUDA_VISIBLE_DEVICES is unset, defaulting to all devices\n",
      "COMET INFO: devices to report: ['GPU-7bbbc95e-7bfa-74c9-d667-3531faaafb97']\n",
      "        0/4      7.36G    0.08785     0.5828   0.006981       3552        640:  81%|████████  | 413/512 [24:16<05:47,  3.51s/it]COMET INFO: CUDA_VISIBLE_DEVICES is unset, defaulting to all devices\n",
      "COMET INFO: devices to report: ['GPU-7bbbc95e-7bfa-74c9-d667-3531faaafb97']\n",
      "        0/4      7.36G    0.08708      0.584   0.006747       2842        640:  84%|████████▍ | 431/512 [25:14<04:08,  3.06s/it]COMET INFO: CUDA_VISIBLE_DEVICES is unset, defaulting to all devices\n",
      "COMET INFO: devices to report: ['GPU-7bbbc95e-7bfa-74c9-d667-3531faaafb97']\n",
      "        0/4      7.36G    0.08634     0.5847   0.006529       4039        640:  88%|████████▊ | 449/512 [26:17<03:20,  3.18s/it]COMET INFO: CUDA_VISIBLE_DEVICES is unset, defaulting to all devices\n",
      "COMET INFO: devices to report: ['GPU-7bbbc95e-7bfa-74c9-d667-3531faaafb97']\n",
      "        0/4      7.36G    0.08562     0.5851   0.006336       4242        640:  91%|█████████ | 466/512 [27:18<03:08,  4.10s/it]COMET INFO: CUDA_VISIBLE_DEVICES is unset, defaulting to all devices\n",
      "COMET INFO: devices to report: ['GPU-7bbbc95e-7bfa-74c9-d667-3531faaafb97']\n",
      "        0/4      7.36G    0.08491      0.585   0.006145       3001        640:  95%|█████████▍| 484/512 [28:18<01:27,  3.14s/it]COMET INFO: CUDA_VISIBLE_DEVICES is unset, defaulting to all devices\n",
      "COMET INFO: devices to report: ['GPU-7bbbc95e-7bfa-74c9-d667-3531faaafb97']\n",
      "        0/4      7.36G    0.08428     0.5845   0.005975       2873        640:  98%|█████████▊| 501/512 [29:15<00:32,  2.93s/it]COMET INFO: CUDA_VISIBLE_DEVICES is unset, defaulting to all devices\n",
      "COMET INFO: devices to report: ['GPU-7bbbc95e-7bfa-74c9-d667-3531faaafb97']\n",
      "        0/4      7.36G    0.08387     0.5847   0.005871       2264        640: 100%|██████████| 512/512 [29:53<00:00,  3.50s/it]\n",
      "                 Class     Images  Instances          P          R      mAP50   mAP50-95:  37%|███▋      | 7/19 [00:24<00:42,  3.52s/it]COMET INFO: CUDA_VISIBLE_DEVICES is unset, defaulting to all devices\n",
      "COMET INFO: devices to report: ['GPU-7bbbc95e-7bfa-74c9-d667-3531faaafb97']\n",
      "                 Class     Images  Instances          P          R      mAP50   mAP50-95: 100%|██████████| 19/19 [00:51<00:00,  2.72s/it]\n",
      "                   all        581      90017       0.82      0.697      0.778      0.401\n",
      "\n",
      "      Epoch    GPU_mem   box_loss   obj_loss   cls_loss  Instances       Size\n",
      "        1/4      8.97G    0.06608     0.5897   0.001117       3366        640:   2%|▏         | 12/512 [00:27<19:11,  2.30s/it]COMET INFO: CUDA_VISIBLE_DEVICES is unset, defaulting to all devices\n",
      "COMET INFO: devices to report: ['GPU-7bbbc95e-7bfa-74c9-d667-3531faaafb97']\n",
      "        1/4      8.97G    0.06499     0.5773   0.001082       2931        640:   6%|▌         | 30/512 [01:31<28:54,  3.60s/it]COMET INFO: CUDA_VISIBLE_DEVICES is unset, defaulting to all devices\n",
      "COMET INFO: devices to report: ['GPU-7bbbc95e-7bfa-74c9-d667-3531faaafb97']\n",
      "        1/4      8.97G    0.06515     0.5778   0.001072       3970        640:   9%|▉         | 48/512 [02:29<22:38,  2.93s/it]COMET INFO: CUDA_VISIBLE_DEVICES is unset, defaulting to all devices\n",
      "COMET INFO: devices to report: ['GPU-7bbbc95e-7bfa-74c9-d667-3531faaafb97']\n"
     ]
    },
    {
     "name": "stdout",
     "output_type": "stream",
     "text": [
      "        1/4      8.97G    0.06521     0.5819   0.001062       3094        640:  13%|█▎        | 65/512 [03:30<27:52,  3.74s/it]COMET INFO: CUDA_VISIBLE_DEVICES is unset, defaulting to all devices\n",
      "COMET INFO: devices to report: ['GPU-7bbbc95e-7bfa-74c9-d667-3531faaafb97']\n",
      "        1/4      8.97G     0.0652     0.5864   0.001051       4687        640:  16%|█▌        | 83/512 [04:32<24:04,  3.37s/it]COMET INFO: CUDA_VISIBLE_DEVICES is unset, defaulting to all devices\n",
      "COMET INFO: devices to report: ['GPU-7bbbc95e-7bfa-74c9-d667-3531faaafb97']\n",
      "        1/4      8.97G    0.06506     0.5861   0.001036       3949        640:  20%|█▉        | 101/512 [05:33<21:20,  3.11s/it]COMET INFO: CUDA_VISIBLE_DEVICES is unset, defaulting to all devices\n",
      "COMET INFO: devices to report: ['GPU-7bbbc95e-7bfa-74c9-d667-3531faaafb97']\n",
      "        1/4      8.97G    0.06505     0.5837   0.001023       3699        640:  23%|██▎       | 118/512 [06:32<24:32,  3.74s/it]COMET INFO: CUDA_VISIBLE_DEVICES is unset, defaulting to all devices\n",
      "COMET INFO: devices to report: ['GPU-7bbbc95e-7bfa-74c9-d667-3531faaafb97']\n",
      "        1/4      8.97G    0.06497     0.5838   0.001013       3371        640:  26%|██▋       | 135/512 [07:31<22:23,  3.56s/it]COMET INFO: CUDA_VISIBLE_DEVICES is unset, defaulting to all devices\n",
      "COMET INFO: devices to report: ['GPU-7bbbc95e-7bfa-74c9-d667-3531faaafb97']\n",
      "        1/4      8.97G    0.06486     0.5835   0.001003       3577        640:  30%|██▉       | 153/512 [08:30<17:24,  2.91s/it]COMET INFO: CUDA_VISIBLE_DEVICES is unset, defaulting to all devices\n",
      "COMET INFO: devices to report: ['GPU-7bbbc95e-7bfa-74c9-d667-3531faaafb97']\n",
      "        1/4      8.97G    0.06458     0.5838  0.0009931       3769        640:  33%|███▎      | 170/512 [09:33<22:01,  3.86s/it]COMET INFO: CUDA_VISIBLE_DEVICES is unset, defaulting to all devices\n",
      "COMET INFO: devices to report: ['GPU-7bbbc95e-7bfa-74c9-d667-3531faaafb97']\n",
      "        1/4      8.97G    0.06438     0.5853  0.0009841       4072        640:  37%|███▋      | 189/512 [10:34<16:00,  2.97s/it]COMET INFO: CUDA_VISIBLE_DEVICES is unset, defaulting to all devices\n",
      "COMET INFO: devices to report: ['GPU-7bbbc95e-7bfa-74c9-d667-3531faaafb97']\n",
      "        1/4      8.97G    0.06425     0.5856  0.0009717       3471        640:  40%|████      | 206/512 [11:35<19:08,  3.75s/it]COMET INFO: CUDA_VISIBLE_DEVICES is unset, defaulting to all devices\n",
      "COMET INFO: devices to report: ['GPU-7bbbc95e-7bfa-74c9-d667-3531faaafb97']\n",
      "        1/4      8.97G    0.06417      0.586  0.0009615       3744        640:  44%|████▎     | 223/512 [12:33<17:37,  3.66s/it]COMET INFO: CUDA_VISIBLE_DEVICES is unset, defaulting to all devices\n",
      "COMET INFO: devices to report: ['GPU-7bbbc95e-7bfa-74c9-d667-3531faaafb97']\n",
      "        1/4      8.97G    0.06405     0.5852  0.0009518       3814        640:  47%|████▋     | 241/512 [13:35<13:55,  3.08s/it]COMET INFO: CUDA_VISIBLE_DEVICES is unset, defaulting to all devices\n",
      "COMET INFO: devices to report: ['GPU-7bbbc95e-7bfa-74c9-d667-3531faaafb97']\n",
      "        1/4      8.97G    0.06405     0.5849  0.0009435       3345        640:  50%|████▉     | 255/512 [14:34<16:24,  3.83s/it]COMET INFO: CUDA_VISIBLE_DEVICES is unset, defaulting to all devices\n",
      "COMET INFO: devices to report: ['GPU-7bbbc95e-7bfa-74c9-d667-3531faaafb97']\n",
      "        1/4      8.97G    0.06408     0.5846  0.0009337       3409        640:  53%|█████▎    | 273/512 [15:35<12:16,  3.08s/it]COMET INFO: CUDA_VISIBLE_DEVICES is unset, defaulting to all devices\n",
      "COMET INFO: devices to report: ['GPU-7bbbc95e-7bfa-74c9-d667-3531faaafb97']\n",
      "        1/4      8.97G    0.06407     0.5843   0.000931       3680        640:  55%|█████▍    | 280/512 [15:59<11:45,  3.04s/it]"
     ]
    }
   ],
   "source": [
    "!python3 \"../yolov5/train.py\" --img 640 --batch 16 --epochs 25 --data \"../data/SKU_2.2K/yolo_data.yaml\" --weights yolov5m.pt "
   ]
  },
  {
   "cell_type": "code",
   "execution_count": null,
   "metadata": {},
   "outputs": [],
   "source": []
  }
 ],
 "metadata": {
  "kernelspec": {
   "display_name": "Python 3 (ipykernel)",
   "language": "python",
   "name": "python3"
  },
  "language_info": {
   "codemirror_mode": {
    "name": "ipython",
    "version": 3
   },
   "file_extension": ".py",
   "mimetype": "text/x-python",
   "name": "python",
   "nbconvert_exporter": "python",
   "pygments_lexer": "ipython3",
   "version": "3.8.10"
  }
 },
 "nbformat": 4,
 "nbformat_minor": 2
}
