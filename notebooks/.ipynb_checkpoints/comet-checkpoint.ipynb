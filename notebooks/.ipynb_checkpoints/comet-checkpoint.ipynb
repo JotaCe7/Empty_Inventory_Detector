{
 "cells": [
  {
   "cell_type": "code",
   "execution_count": 1,
   "metadata": {},
   "outputs": [],
   "source": [
    "import comet_ml"
   ]
  },
  {
   "cell_type": "code",
   "execution_count": 3,
   "metadata": {},
   "outputs": [
    {
     "name": "stderr",
     "output_type": "stream",
     "text": [
      "COMET WARNING: As you are running in a Jupyter environment, you will need to call `experiment.end()` when finished to ensure all metrics and code are logged before exiting.\n",
      "COMET INFO: CUDA_VISIBLE_DEVICES is unset, defaulting to all devices\n",
      "COMET INFO: devices to report: ['GPU-7bbbc95e-7bfa-74c9-d667-3531faaafb97']\n",
      "COMET INFO: Experiment is live on comet.com https://www.comet.com/sannicosan/first-experiment/bea0d3792209427e9bf801e47cfee701\n",
      "\n",
      "COMET INFO: CUDA_VISIBLE_DEVICES is unset, defaulting to all devices\n",
      "COMET INFO: devices to report: ['GPU-7bbbc95e-7bfa-74c9-d667-3531faaafb97']\n"
     ]
    }
   ],
   "source": [
    "## import comet_ml at the top of your file\n",
    "from comet_ml import Experiment\n",
    "\n",
    "## Create an experiment with your api key\n",
    "experiment = Experiment(\n",
    "    api_key=\"rlkvOiBksvPGoeDbeyzRZikru\",\n",
    "    project_name=\"First Experiment\",\n",
    "    workspace=\"sannicosan\",\n",
    ")"
   ]
  },
  {
   "cell_type": "code",
   "execution_count": null,
   "metadata": {},
   "outputs": [],
   "source": []
  }
 ],
 "metadata": {
  "kernelspec": {
   "display_name": "Python 3 (ipykernel)",
   "language": "python",
   "name": "python3"
  },
  "language_info": {
   "codemirror_mode": {
    "name": "ipython",
    "version": 3
   },
   "file_extension": ".py",
   "mimetype": "text/x-python",
   "name": "python",
   "nbconvert_exporter": "python",
   "pygments_lexer": "ipython3",
   "version": "3.8.10"
  }
 },
 "nbformat": 4,
 "nbformat_minor": 2
}
