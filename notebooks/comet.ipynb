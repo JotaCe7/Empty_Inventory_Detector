{
 "cells": [
  {
   "cell_type": "code",
   "execution_count": 1,
   "metadata": {},
   "outputs": [],
   "source": [
    "import comet_ml"
   ]
  },
  {
   "cell_type": "code",
   "execution_count": 3,
   "metadata": {},
   "outputs": [
    {
     "name": "stderr",
     "output_type": "stream",
     "text": [
      "COMET WARNING: As you are running in a Jupyter environment, you will need to call `experiment.end()` when finished to ensure all metrics and code are logged before exiting.\n",
      "COMET INFO: CUDA_VISIBLE_DEVICES is unset, defaulting to all devices\n",
      "COMET INFO: devices to report: ['GPU-7bbbc95e-7bfa-74c9-d667-3531faaafb97']\n",
      "COMET INFO: Experiment is live on comet.com https://www.comet.com/sannicosan/first-experiment/bea0d3792209427e9bf801e47cfee701\n",
      "\n",
      "COMET INFO: CUDA_VISIBLE_DEVICES is unset, defaulting to all devices\n",
      "COMET INFO: devices to report: ['GPU-7bbbc95e-7bfa-74c9-d667-3531faaafb97']\n",
      "COMET INFO: CUDA_VISIBLE_DEVICES is unset, defaulting to all devices\n",
      "COMET INFO: devices to report: ['GPU-7bbbc95e-7bfa-74c9-d667-3531faaafb97']\n"
     ]
    }
   ],
   "source": [
    "## import comet_ml at the top of your file\n",
    "from comet_ml import Experiment\n",
    "\n",
    "## Create an experiment with your api key\n",
    "experiment = Experiment(\n",
    "    api_key=\"rlkvOiBksvPGoeDbeyzRZikru\",\n",
    "    project_name=\"First Experiment\",\n",
    "    workspace=\"sannicosan\",\n",
    ")"
   ]
  },
  {
   "cell_type": "code",
   "execution_count": 5,
   "metadata": {},
   "outputs": [],
   "source": [
    "! export COMET_API_KEY= \"rlkvOiBksvPGoeDbeyzRZikru\"\n"
   ]
  },
  {
   "cell_type": "code",
   "execution_count": 13,
   "metadata": {},
   "outputs": [
    {
     "name": "stdout",
     "output_type": "stream",
     "text": [
      "\u001b[34m\u001b[1mtrain: \u001b[0mweights=yolov5m.pt, cfg=, data=../data/train_test_SKU/yolo_data.yaml, hyp=../yolov5/data/hyps/hyp.scratch-low.yaml, epochs=5, batch_size=16, imgsz=640, rect=False, resume=False, nosave=False, noval=False, noautoanchor=False, noplots=False, evolve=None, bucket=, cache=None, image_weights=False, device=, multi_scale=False, single_cls=False, optimizer=SGD, sync_bn=False, workers=8, project=../yolov5/runs/train, name=exp, exist_ok=False, quad=False, cos_lr=False, label_smoothing=0.0, patience=100, freeze=[0], save_period=-1, seed=0, local_rank=-1, entity=None, upload_dataset=False, bbox_interval=-1, artifact_alias=latest\n",
      "\u001b[34m\u001b[1mgithub: \u001b[0m⚠️ YOLOv5 is out of date by 1 commit. Use `git pull` or `git clone https://github.com/ultralytics/yolov5` to update.\n",
      "Traceback (most recent call last):\n",
      "  File \"../yolov5/train.py\", line 633, in <module>\n",
      "    main(opt)\n",
      "  File \"../yolov5/train.py\", line 502, in main\n",
      "    check_file(opt.data), check_yaml(opt.cfg), check_yaml(opt.hyp), str(opt.weights), str(opt.project)  # checks\n",
      "  File \"/home/app/src/AnyoneAI_FP/yolov5/utils/general.py\", line 483, in check_file\n",
      "    assert len(files), f'File not found: {file}'  # assert file was found\n",
      "AssertionError: File not found: ../data/train_test_SKU/yolo_data.yaml\n"
     ]
    },
    {
     "name": "stderr",
     "output_type": "stream",
     "text": [
      "COMET INFO: CUDA_VISIBLE_DEVICES is unset, defaulting to all devices\n",
      "COMET INFO: devices to report: ['GPU-7bbbc95e-7bfa-74c9-d667-3531faaafb97']\n",
      "COMET INFO: CUDA_VISIBLE_DEVICES is unset, defaulting to all devices\n",
      "COMET INFO: devices to report: ['GPU-7bbbc95e-7bfa-74c9-d667-3531faaafb97']\n"
     ]
    }
   ],
   "source": [
    "!python3 \"../yolov5/train.py\" --img 640 --batch 16 --epochs 5 --data \"../data/train_test_SKU/yolo_data.yaml\" --weights yolov5m.pt "
   ]
  },
  {
   "cell_type": "code",
   "execution_count": null,
   "metadata": {},
   "outputs": [],
   "source": []
  }
 ],
 "metadata": {
  "kernelspec": {
   "display_name": "Python 3 (ipykernel)",
   "language": "python",
   "name": "python3"
  },
  "language_info": {
   "codemirror_mode": {
    "name": "ipython",
    "version": 3
   },
   "file_extension": ".py",
   "mimetype": "text/x-python",
   "name": "python",
   "nbconvert_exporter": "python",
   "pygments_lexer": "ipython3",
   "version": "3.8.10"
  }
 },
 "nbformat": 4,
 "nbformat_minor": 2
}
